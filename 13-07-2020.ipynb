{
 "cells": [
  {
   "cell_type": "markdown",
   "metadata": {},
   "source": [
    "# CSE-221710304012-B.Sreeja"
   ]
  },
  {
   "cell_type": "markdown",
   "metadata": {},
   "source": [
    "1.What is transfer learning?\n",
    "\n",
    " Ans:   Transfer learning makes use of the knowledge gained while solving one problem and applying it to a different but related problem.\n",
    "Transfer learning (TL) is a research problem in machine learning (ML) that focuses on storing knowledge gained while solving one problem and applying it to a different but related problem.\n",
    "For example, knowledge gained while learning to recognize cars could apply when trying to recognize trucks. \n",
    "\n",
    "This area of research bears some relation to the long history of psychological literature on transfer of learning, although formal ties between the two fields are limited. \n",
    "From the practical standpoint, reusing or transferring information from previously learned tasks for the learning of new tasks has the potential to significantly improve the sample efficiency of a reinforcement learning agent."
   ]
  },
  {
   "cell_type": "markdown",
   "metadata": {},
   "source": [
    "2.What is a Pre-trained Model?\n",
    "\n",
    "Ans: Simply put, a pre-trained model is a model created by someone else to solve a similar problem. Instead of building a model from scratch to solve a similar problem, you use the model trained on other problems as a starting point.\n",
    "For example, if you want to build a self learning car. You can spend years to build a decent image recognition algorithm from scratch or you can take an inception model (a pre-trained model) from Google which was built on ImageNet data to identify images in those pictures.\n",
    "A pre-trained model may not be 100% accurate in your application, but it saves huge efforts required to reinvent the wheel. Let me show this to you with a recent example."
   ]
  },
  {
   "cell_type": "markdown",
   "metadata": {},
   "source": [
    "3.What is imagenet database? How many images and classes are there in that data?\n",
    "\n",
    "Ans: a) ImageNet. The ImageNet project is a large visual database designed for use in visual object recognition software research.\n",
    "b) More than 14 million images have been hand-annotated by the project to indicate what objects are pictured and in at least one million of the images, bounding boxes are also provided.\n",
    "c) The Tiny ImageNet dataset has 100,000 images across 200 classes. Each class has 500 training images, 50 validation images, and 50 test images."
   ]
  },
  {
   "cell_type": "markdown",
   "metadata": {},
   "source": [
    "4.What are the different pretrained models available on imagenet?\n",
    "\n",
    "Ans: There are many models such as AlexNet, VGGNet, Inception, ResNet, Xception and many\n",
    "more which we can choose from, for our own task.\n",
    "Apart from the ILSVRC winners, many research groups also share their models which they have\n",
    "trained for similar tasks, e.g, MobileNet, SqueezeNet etc.\n",
    "\n",
    "1. VGG16,\n",
    "2. InceptionV3,\n",
    "3. ResNet,\n",
    "4. MobileNet,\n",
    "5. Xception,\n",
    "6. InceptionResNetV2"
   ]
  }
 ],
 "metadata": {
  "kernelspec": {
   "display_name": "Python 3",
   "language": "python",
   "name": "python3"
  },
  "language_info": {
   "codemirror_mode": {
    "name": "ipython",
    "version": 3
   },
   "file_extension": ".py",
   "mimetype": "text/x-python",
   "name": "python",
   "nbconvert_exporter": "python",
   "pygments_lexer": "ipython3",
   "version": "3.7.6"
  }
 },
 "nbformat": 4,
 "nbformat_minor": 4
}
