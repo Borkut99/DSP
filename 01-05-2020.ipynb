{
 "cells": [
  {
   "cell_type": "code",
   "execution_count": 1,
   "metadata": {},
   "outputs": [
    {
     "name": "stdout",
     "output_type": "stream",
     "text": [
      "happyHyderabad98@\n",
      "Want another password? [Y/N] Y\n",
      "cooldog83~\n",
      "Want another password? [Y/N] Y\n",
      "happydog92{\n",
      "Want another password? [Y/N] Y\n",
      "goodLaptop25*\n",
      "Want another password? [Y/N] Y\n",
      "fairDhyanahita77$\n",
      "Want another password? [Y/N] Y\n",
      "happydog93&\n",
      "Want another password? [Y/N] Y\n",
      "goodgitam3{\n",
      "Want another password? [Y/N] Y\n",
      "baddog18%\n",
      "Want another password? [Y/N] N\n"
     ]
    }
   ],
   "source": [
    "import random,string\n",
    "\n",
    "def passwordGenerator():\n",
    "    \n",
    "    adjectives =[\"good\", \"bad\", \"fair\", \"cool\", \"happy\"]\n",
    "    noun = [\"gitam\", \"Hyderabad\",\"Dhyanahita\",\"Laptop\",\"dog\"]\n",
    "   \n",
    "    password =random.choice(adjectives)+random.choice(noun)+str(random.randint(1,100))+random.choice(string.punctuation)\n",
    "    print(password)\n",
    "    \n",
    "\n",
    "passwordGenerator()\n",
    "choice = str(input(\"Want another password? [Y/N] \"))\n",
    "while(choice.upper() == \"Y\"):\n",
    "    passwordGenerator()\n",
    "    choice = str(input(\"Want another password? [Y/N] \"))"
   ]
  },
  {
   "cell_type": "code",
   "execution_count": null,
   "metadata": {},
   "outputs": [],
   "source": []
  }
 ],
 "metadata": {
  "kernelspec": {
   "display_name": "Python 3",
   "language": "python",
   "name": "python3"
  },
  "language_info": {
   "codemirror_mode": {
    "name": "ipython",
    "version": 3
   },
   "file_extension": ".py",
   "mimetype": "text/x-python",
   "name": "python",
   "nbconvert_exporter": "python",
   "pygments_lexer": "ipython3",
   "version": "3.7.6"
  }
 },
 "nbformat": 4,
 "nbformat_minor": 4
}
